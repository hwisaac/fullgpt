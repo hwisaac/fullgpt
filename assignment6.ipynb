{
 "cells": [
  {
   "cell_type": "code",
   "execution_count": 1,
   "metadata": {},
   "outputs": [
    {
     "name": "stderr",
     "output_type": "stream",
     "text": [
      "2025-03-28 12:53:41.795 \n",
      "  \u001b[33m\u001b[1mWarning:\u001b[0m to view this Streamlit app on a browser, run it with the following\n",
      "  command:\n",
      "\n",
      "    streamlit run /Users/hwang-isaac/.pyenv/versions/3.11.6/envs/fullgpt/lib/python3.11/site-packages/ipykernel_launcher.py [ARGUMENTS]\n",
      "2025-03-28 12:53:41.796 No runtime found, using MemoryCacheStorageManager\n"
     ]
    }
   ],
   "source": [
    "from langchain.document_loaders import UnstructuredFileLoader\n",
    "from langchain.text_splitter import CharacterTextSplitter\n",
    "import streamlit as st\n",
    "from langchain.retrievers import WikipediaRetriever\n",
    "\n",
    "\n",
    "st.set_page_config(\n",
    "    page_title=\"QuizGPT\",\n",
    "    page_icon=\"❓\",\n",
    ")\n",
    "\n",
    "st.title(\"QuizGPT\")\n",
    "\n",
    "\n",
    "@st.cache_data(show_spinner=\"Loading file...\")\n",
    "def split_file(file):\n",
    "    file_content = file.read()\n",
    "    file_path = f\"./.cache/quiz_files/{file.name}\"\n",
    "    with open(file_path, \"wb\") as f:\n",
    "        f.write(file_content)\n",
    "    splitter = CharacterTextSplitter.from_tiktoken_encoder(\n",
    "        separator=\"\\n\",\n",
    "        chunk_size=600,\n",
    "        chunk_overlap=100,\n",
    "    )\n",
    "    loader = UnstructuredFileLoader(file_path)\n",
    "    docs = loader.load_and_split(text_splitter=splitter)\n",
    "    return docs\n",
    "\n",
    "\n",
    "with st.sidebar:\n",
    "    choice = st.selectbox(\n",
    "        \"Choose what you want to use.\",\n",
    "        (\n",
    "            \"File\",\n",
    "            \"Wikipedia Article\",\n",
    "        ),\n",
    "    )\n",
    "    if choice == \"File\":\n",
    "        file = st.file_uploader(\n",
    "            \"Upload a .docx , .txt or .pdf file\",\n",
    "            type=[\"pdf\", \"txt\", \"docx\"],\n",
    "        )\n",
    "        if file:\n",
    "            docs = split_file(file)\n",
    "            st.write(docs)\n",
    "    else:\n",
    "        topic = st.text_input(\"Search Wikipedia...\")\n",
    "        if topic:\n",
    "            retriever = WikipediaRetriever(top_k_results=5)\n",
    "            with st.status(\"Searching Wikipedia...\"):\n",
    "                docs = retriever.get_relevant_documents(topic)"
   ]
  }
 ],
 "metadata": {
  "kernelspec": {
   "display_name": "fullgpt",
   "language": "python",
   "name": "python3"
  },
  "language_info": {
   "codemirror_mode": {
    "name": "ipython",
    "version": 3
   },
   "file_extension": ".py",
   "mimetype": "text/x-python",
   "name": "python",
   "nbconvert_exporter": "python",
   "pygments_lexer": "ipython3",
   "version": "3.11.6"
  }
 },
 "nbformat": 4,
 "nbformat_minor": 2
}
