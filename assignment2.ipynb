{
 "cells": [
  {
   "cell_type": "code",
   "execution_count": null,
   "metadata": {},
   "outputs": [],
   "source": [
    "from langchain.chat_models import ChatOpenAI\n",
    "from langchain.prompts import ChatPromptTemplate\n",
    "from langchain.callbacks import StreamingStdOutCallbackHandler\n",
    "\n",
    "# OpenAI 모델 설정\n",
    "chat = ChatOpenAI(\n",
    "    model=\"gpt-4o-mini\",\n",
    "    temperature=0.7,\n",
    "    streaming=True,\n",
    "    callbacks=[StreamingStdOutCallbackHandler()],\n",
    ")\n",
    "\n",
    "# 프로그래밍 언어에 대한 시를 생성하는 체인\n",
    "poetry_prompt = ChatPromptTemplate.from_messages(\n",
    "    [\n",
    "        (\"system\", \"You are a poet specializing in writing poetry about programming languages.\"),\n",
    "        (\"human\", \"Write a short poem about the {language} programming language.\"),\n",
    "    ]\n",
    ")\n",
    "\n",
    "poetry_chain = poetry_prompt | chat\n",
    "\n",
    "# 시를 설명하는 체인\n",
    "explanation_prompt = ChatPromptTemplate.from_messages(\n",
    "    [\n",
    "        (\"system\", \"You are an expert in literary analysis. You explain poetry in an insightful way.\"),\n",
    "        (\"human\", \"Explain the meaning and themes of the following poem:\\n\\n{poem}\"),\n",
    "    ]\n",
    ")\n",
    "\n",
    "explanation_chain = explanation_prompt | chat\n",
    "\n",
    "# LCEL을 사용하여 두 체인 연결\n",
    "final_chain = {\"poem\": poetry_chain} | explanation_chain\n",
    "\n",
    "# 실행\n",
    "def generate_poetry_and_explanation(language: str):\n",
    "    response = final_chain.invoke({\"language\": language})\n",
    "    return response\n",
    "\n",
    "# 테스트 실행\n",
    "print(generate_poetry_and_explanation(\"Python\"))"
   ]
  }
 ],
 "metadata": {
  "kernelspec": {
   "display_name": "fullgpt",
   "language": "python",
   "name": "python3"
  },
  "language_info": {
   "name": "python",
   "version": "3.11.6"
  }
 },
 "nbformat": 4,
 "nbformat_minor": 2
}
