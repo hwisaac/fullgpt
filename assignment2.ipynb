{
 "cells": [
  {
   "cell_type": "code",
   "execution_count": 7,
   "metadata": {},
   "outputs": [
    {
     "name": "stdout",
     "output_type": "stream",
     "text": [
      "\n",
      "        Title: The Dark Knight\n",
      "        Director: Christopher Nolan\n",
      "        Cast: Christian Bale, Heath Ledger, Aaron Eckhart\n",
      "        Budget: $185 million\n",
      "        Box Office: $1.005 billion\n",
      "        Genre: Action, Crime, Drama\n",
      "        Synopsis: Batman, with the help of Lieutenant Jim Gordon and District Attorney Harvey Dent, sets out to dismantle the remaining criminal organizations that plague Gotham City. However, a new and chaotic criminal mastermind known as the Joker emerges, creating a wave of chaos and anarchy in the city.\n",
      "        "
     ]
    },
    {
     "data": {
      "text/plain": [
       "AIMessageChunk(content='\\n        Title: The Dark Knight\\n        Director: Christopher Nolan\\n        Cast: Christian Bale, Heath Ledger, Aaron Eckhart\\n        Budget: $185 million\\n        Box Office: $1.005 billion\\n        Genre: Action, Crime, Drama\\n        Synopsis: Batman, with the help of Lieutenant Jim Gordon and District Attorney Harvey Dent, sets out to dismantle the remaining criminal organizations that plague Gotham City. However, a new and chaotic criminal mastermind known as the Joker emerges, creating a wave of chaos and anarchy in the city.\\n        ')"
      ]
     },
     "execution_count": 7,
     "metadata": {},
     "output_type": "execute_result"
    }
   ],
   "source": [
    "from langchain.chat_models import ChatOpenAI\n",
    "from langchain.prompts.few_shot import FewShotChatMessagePromptTemplate\n",
    "from langchain.prompts import ChatMessagePromptTemplate, ChatPromptTemplate\n",
    "from langchain.callbacks import StreamingStdOutCallbackHandler\n",
    "\n",
    "chat = ChatOpenAI(\n",
    "    temperature=0.1,\n",
    "    streaming=True,\n",
    "    callbacks=[\n",
    "        StreamingStdOutCallbackHandler(),\n",
    "    ],\n",
    ")\n",
    "\n",
    "# 예제 데이터\n",
    "examples = [\n",
    "    {\n",
    "        \"movie\": \"Inception\",\n",
    "        \"answer\": \"\"\"\n",
    "        Title: Inception\n",
    "        Director: Christopher Nolan\n",
    "        Cast: Leonardo DiCaprio, Joseph Gordon-Levitt, Ellen Page\n",
    "        Budget: $160 million\n",
    "        Box Office: $829.9 million\n",
    "        Genre: Science Fiction, Thriller\n",
    "        Synopsis: A thief who enters the dreams of others to steal secrets is given a chance to have his criminal history erased if he can successfully plant an idea into a target's subconscious.\n",
    "        \"\"\",\n",
    "    },\n",
    "    {\n",
    "        \"movie\": \"Titanic\",\n",
    "        \"answer\": \"\"\"\n",
    "        Title: Titanic\n",
    "        Director: James Cameron\n",
    "        Cast: Leonardo DiCaprio, Kate Winslet, Billy Zane\n",
    "        Budget: $200 million\n",
    "        Box Office: $2.195 billion\n",
    "        Genre: Romance, Drama\n",
    "        Synopsis: A seventeen-year-old aristocrat falls in love with a kind but poor artist aboard the luxurious, ill-fated R.M.S. Titanic.\n",
    "        \"\"\",\n",
    "    },\n",
    "]\n",
    "\n",
    "example_prompt = ChatPromptTemplate.from_messages(\n",
    "    [\n",
    "        (\"human\", \"Give me information about the movie '{movie}'\"),\n",
    "        (\"ai\", \"{answer}\"),\n",
    "    ]\n",
    ")\n",
    "\n",
    "example_prompt = FewShotChatMessagePromptTemplate(\n",
    "    example_prompt=example_prompt,\n",
    "    examples=examples,\n",
    ")\n",
    "\n",
    "final_prompt = ChatPromptTemplate.from_messages(\n",
    "    [\n",
    "        (\"system\", \"You are a movie expert. Provide structured information about movies in the given format.\"),\n",
    "        example_prompt,\n",
    "        (\"human\", \"Give me information about the movie '{movie}'\"),\n",
    "    ]\n",
    ")\n",
    "\n",
    "chain = final_prompt | chat\n",
    "\n",
    "# 테스트 실행\n",
    "chain.invoke({\"movie\": \"The Dark Knight\"})"
   ]
  }
 ],
 "metadata": {
  "kernelspec": {
   "display_name": "fullgpt",
   "language": "python",
   "name": "python3"
  },
  "language_info": {
   "codemirror_mode": {
    "name": "ipython",
    "version": 3
   },
   "file_extension": ".py",
   "mimetype": "text/x-python",
   "name": "python",
   "nbconvert_exporter": "python",
   "pygments_lexer": "ipython3",
   "version": "3.11.6"
  }
 },
 "nbformat": 4,
 "nbformat_minor": 2
}
